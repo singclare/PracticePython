{
  "nbformat": 4,
  "nbformat_minor": 0,
  "metadata": {
    "colab": {
      "name": "텔레그램 미세먼지 알림봇 제작 코드.ipynb",
      "provenance": [],
      "collapsed_sections": [],
      "include_colab_link": true
    },
    "kernelspec": {
      "name": "python3",
      "display_name": "Python 3"
    }
  },
  "cells": [
    {
      "cell_type": "markdown",
      "metadata": {
        "id": "view-in-github",
        "colab_type": "text"
      },
      "source": [
        "<a href=\"https://colab.research.google.com/github/singclare/PracticePython/blob/master/%ED%85%94%EB%A0%88%EA%B7%B8%EB%9E%A8_%EB%AF%B8%EC%84%B8%EB%A8%BC%EC%A7%80_%EC%95%8C%EB%A6%BC%EB%B4%87_%EC%A0%9C%EC%9E%91_%EC%BD%94%EB%93%9C.ipynb\" target=\"_parent\"><img src=\"https://colab.research.google.com/assets/colab-badge.svg\" alt=\"Open In Colab\"/></a>"
      ]
    },
    {
      "cell_type": "code",
      "metadata": {
        "id": "OWMfUBb1nXTr",
        "colab_type": "code",
        "colab": {
          "base_uri": "https://localhost:8080/",
          "height": 85
        },
        "outputId": "30494c58-63c2-4fb4-bf5c-35d145d49698"
      },
      "source": [
        "!pip install schedule"
      ],
      "execution_count": null,
      "outputs": [
        {
          "output_type": "stream",
          "text": [
            "Collecting schedule\n",
            "  Downloading https://files.pythonhosted.org/packages/57/22/3a709462eb02412bd1145f6e53604f36bba191e3e4e397bea4a718fec38c/schedule-0.6.0-py2.py3-none-any.whl\n",
            "Installing collected packages: schedule\n",
            "Successfully installed schedule-0.6.0\n"
          ],
          "name": "stdout"
        }
      ]
    },
    {
      "cell_type": "code",
      "metadata": {
        "id": "lzVx7dgcd_v2",
        "colab_type": "code",
        "colab": {}
      },
      "source": [
        "# HTTP 통신\n",
        "import requests\n",
        "from urllib.parse import urlencode, quote_plus, urlparse\n",
        "from urllib.request import urlopen\n",
        "import urllib\n",
        "\n",
        "# 데이터 가공\n",
        "from bs4 import BeautifulSoup\n",
        "import json\n",
        "\n",
        "# 시간 관련 \n",
        "import datetime\n",
        "from time import sleep\n",
        "import schedule"
      ],
      "execution_count": null,
      "outputs": []
    },
    {
      "cell_type": "markdown",
      "metadata": {
        "id": "cLbpqiTI5vgF",
        "colab_type": "text"
      },
      "source": [
        "## 1. 텔레그램 연동, API 활용\n",
        "![대체 텍스트](https://postfiles.pstatic.net/MjAxOTEwMjJfODkg/MDAxNTcxNzI0NzU5NzQ3.DWq-KV-5JUKFWAkcWuRLKeDFFXSgcolN7uXsMepnkqAg.sbTVzFhJGTiAhm8b34omsXqWwzn45knyzPPubT_lKbIg.PNG.rlatlawkd/%EC%8A%A4%ED%81%AC%EB%A6%B0%EC%83%B7_2019-10-22_%EC%98%A4%ED%9B%84_3.11.36.png?type=w773)"
      ]
    },
    {
      "cell_type": "markdown",
      "metadata": {
        "id": "wdA2s0PtDBtm",
        "colab_type": "text"
      },
      "source": [
        "1. 텔레그램 설치\n",
        "2. BotFather 채널 추가\n",
        "3. 나의 봇 생성\n",
        "4. API key 발급\n",
        "\n",
        "참고\n",
        "https://kimdondon.tistory.com/17"
      ]
    },
    {
      "cell_type": "code",
      "metadata": {
        "id": "LKPzUHVX52k_",
        "colab_type": "code",
        "colab": {}
      },
      "source": [
        "### 각자 할당 받은 API 키로 수정하자. ###\n",
        "\n",
        "API_key_Telegram = '1067658259:AAFVrKUfRRNpAJZ5PA2TmszfEyfVnrjYXtg'"
      ],
      "execution_count": null,
      "outputs": []
    },
    {
      "cell_type": "code",
      "metadata": {
        "id": "UuttSLqd7eq3",
        "colab_type": "code",
        "colab": {}
      },
      "source": [
        "def get_myChatID() :\n",
        "    \n",
        "    # 이 코드셀에서 에러가 난다면, 해당 텔레그램 봇에서 직접 아무 메시지나 \"두 번\" 입력\n",
        "\n",
        "    endpoint = 'https://api.telegram.org/bot'\n",
        "    query = '/' + 'getUpdates'\n",
        "    URL = endpoint + API_key_Telegram + query\n",
        "    \n",
        "    print(URL)\n",
        "    \n",
        "    request = urllib.request.Request(URL)\n",
        "    response = urllib.request.urlopen(request)\n",
        "    rescode = response.getcode()\n",
        "    request_body = urlopen(request).read()\n",
        "\n",
        "    if rescode == 200 :\n",
        "        print(rescode)\n",
        "        print('SUCCESS \\n')\n",
        "        chat_id = json.loads(request_body)['result'][0]['message']['from']['id']\n",
        "        print('나의 chat ID : '+ str(chat_id))\n",
        "     \n",
        "        return str(chat_id)\n",
        "    \n",
        "    else :\n",
        "        print(rescode)\n",
        "        print('FAILED')"
      ],
      "execution_count": null,
      "outputs": []
    },
    {
      "cell_type": "code",
      "metadata": {
        "id": "yqqggipI7gmb",
        "colab_type": "code",
        "colab": {
          "base_uri": "https://localhost:8080/",
          "height": 122
        },
        "outputId": "481f89cb-5e3b-433c-8680-6ad4d219b1f6"
      },
      "source": [
        "# 이 함수가 에러 없이 실행되면 텔레그램에 무사히 연동된 것이다.\n",
        "\n",
        "get_myChatID()"
      ],
      "execution_count": null,
      "outputs": [
        {
          "output_type": "stream",
          "text": [
            "https://api.telegram.org/bot1067658259:AAFVrKUfRRNpAJZ5PA2TmszfEyfVnrjYXtg/getUpdates\n",
            "200\n",
            "SUCCESS \n",
            "\n",
            "나의 chat ID : 825106853\n"
          ],
          "name": "stdout"
        },
        {
          "output_type": "execute_result",
          "data": {
            "text/plain": [
              "'825106853'"
            ]
          },
          "metadata": {
            "tags": []
          },
          "execution_count": 9
        }
      ]
    },
    {
      "cell_type": "markdown",
      "metadata": {
        "id": "Ihdn-ar_DFnu",
        "colab_type": "text"
      },
      "source": [
        "### 에러가 여러가지 형태로 날 수 있다.\n",
        "\n",
        "HTTPError: HTTP Error 401: Unauthorized\n",
        "- API Key가 올바른지 확인해 보자.\n",
        "\n",
        "IndexError: list index out of range\n",
        "- 텔레그램에서 아무 채팅이나 2번 이상 입력\n",
        "\n",
        "HTTPError: HTTP Error 502: Bad Gateway\n",
        "- 엔드 포인트 에러. 강사가 직접 봐야 함."
      ]
    },
    {
      "cell_type": "code",
      "metadata": {
        "id": "qALu2FIU7vTo",
        "colab_type": "code",
        "colab": {}
      },
      "source": [
        "def send_message(input_text) :\n",
        "    \n",
        "    # 유저마다 chat id가 다르다.\n",
        "    chat_id = get_myChatID()\n",
        "    \n",
        "    endpoint = 'https://api.telegram.org/bot'\n",
        "    action = '/' + 'sendmessage'\n",
        "    param_list = [\n",
        "        'chat_id=' + str(chat_id), \n",
        "        'text=' + input_text\n",
        "    ]\n",
        "    param = '&'.join(param_list)\n",
        "    query = action + '?' + param\n",
        "    \n",
        "    URL = endpoint + API_key_Telegram + query\n",
        "    print(URL)\n",
        "    \n",
        "    try : \n",
        "        r = requests.get(URL)\n",
        "        print(r.text)\n",
        "    \n",
        "    except Exception as e:\n",
        "        print(str(e))"
      ],
      "execution_count": null,
      "outputs": []
    },
    {
      "cell_type": "code",
      "metadata": {
        "id": "61ibt09cMDMD",
        "colab_type": "code",
        "colab": {
          "base_uri": "https://localhost:8080/",
          "height": 159
        },
        "outputId": "223ad4dc-ab21-4340-db8d-2636f2568c90"
      },
      "source": [
        "send_message('TEST TEST TEST 123 123 안녕하세요')"
      ],
      "execution_count": null,
      "outputs": [
        {
          "output_type": "stream",
          "text": [
            "https://api.telegram.org/bot1067658259:AAFVrKUfRRNpAJZ5PA2TmszfEyfVnrjYXtg/getUpdates\n",
            "200\n",
            "SUCCESS \n",
            "\n",
            "나의 chat ID : 825106853\n",
            "https://api.telegram.org/bot1067658259:AAFVrKUfRRNpAJZ5PA2TmszfEyfVnrjYXtg/sendmessage?chat_id=825106853&text=TEST TEST TEST 123 123 안녕하세요\n",
            "{\"ok\":true,\"result\":{\"message_id\":7,\"from\":{\"id\":1067658259,\"is_bot\":true,\"first_name\":\"simin_misemise_bot\",\"username\":\"simin_misemise_bot\"},\"chat\":{\"id\":825106853,\"first_name\":\"\\uc2dc\\ubbfc\",\"last_name\":\"\\uae40\",\"type\":\"private\"},\"date\":1580455512,\"text\":\"TEST TEST TEST 123 123 \\uc548\\ub155\\ud558\\uc138\\uc694\"}}\n"
          ],
          "name": "stdout"
        }
      ]
    },
    {
      "cell_type": "markdown",
      "metadata": {
        "id": "rhYIQotKM3bG",
        "colab_type": "text"
      },
      "source": [
        "## 2. 공공데이터 API 활용\n",
        "\n",
        "![](https://postfiles.pstatic.net/MjAxOTEwMjJfMjQ4/MDAxNTcxNzI0NzU5NzQ4.9OcNdlW37QlWHm5-8AA8wZLw8Mj9OsP3vwsbINu399Ug.LrpiCfa6KKbCk4KaWd8Z9WtgTMi2d_F_NECogGzXxtUg.PNG.rlatlawkd/%EC%8A%A4%ED%81%AC%EB%A6%B0%EC%83%B7_2019-10-22_%EC%98%A4%ED%9B%84_3.09.25.png?type=w773)"
      ]
    },
    {
      "cell_type": "code",
      "metadata": {
        "id": "4sXmHVqOkkxJ",
        "colab_type": "code",
        "colab": {}
      },
      "source": [
        "### 각자 할당 받은 API 키로 수정하자. ###\n",
        "\n",
        "#API_key_opendata = '4uLYNT4VBfdIchhsd0UX57z9i6WMo4k2KjD126qoi00ZCbyheNCSBCV4bFwZDcV75DizH2nYTtvWyk400xS56A%3D%3D'\n",
        "API_key_opendata = 'pKdeOUo9aa7hDWmQ4RfZ%2B84zx7eAQjsOuhtAD94DLH9nAoiDxc3CFLAtdBarqYAkxIBgwd7XxIgvHB8lXtGgEg%3D%3D'"
      ],
      "execution_count": null,
      "outputs": []
    },
    {
      "cell_type": "code",
      "metadata": {
        "id": "R4Di3t4Jkkzg",
        "colab_type": "code",
        "colab": {}
      },
      "source": [
        "def getData_airPollution() :\n",
        "    \n",
        "    # API : 대기오염정보 조회 서비스\n",
        "    endpoint = 'http://openapi.airkorea.or.kr/openapi/services/rest/ArpltnInforInqireSvc/getCtprvnMesureSidoLIst'\n",
        "    \n",
        "    headers_params = { \n",
        "    #quote_plus('ServiceKey') : api_key_utf8, \n",
        "    # Service Key는 특수문자를 포함하고 있기 때문에 인코딩 parameter 객체에 넣기에는 인코딩 과정이 복잡하다.\n",
        "    # 아래 코드 셀에서 직접 URL의 Service Key 부분만 수동으로 타이핑하자.\n",
        "        quote_plus('ServiceKey') : API_key_opendata, \n",
        "        quote_plus('pageNo') : '1', \n",
        "        quote_plus('numOfRows') : '50', \n",
        "        quote_plus('sidoName') : '대전', ### 도시명 수정 가능 ###\n",
        "        quote_plus('searchCondition') : 'HOUR'\n",
        "    }\n",
        "\n",
        "    queryParams = ('?' + \n",
        "                  'ServiceKey=' + API_key_opendata + '&' + \n",
        "                  urllib.parse.urlencode(headers_params, 'UTF-8'))\n",
        "\n",
        "    url = endpoint  + queryParams\n",
        "    \n",
        "    request = urllib.request.Request(url)\n",
        "    request.get_method = lambda : 'GET'\n",
        "\n",
        "    response = urllib.request.urlopen(request)\n",
        "    rescode = response.getcode()\n",
        "    request_body = urlopen(request).read()\n",
        "    print('request 완료\\n')\n",
        "    \n",
        "    # 여기까지 API 호출 코드였다. #\n",
        "    # 아래부터 API로 받아온 데이터를 가공하는 작업 --> 시간, 지역구, 각종 대기오염 정보 #\n",
        "    \n",
        "    request_soup = BeautifulSoup(request_body, 'html.parser')\n",
        "    \n",
        "    ### 지역구 변경 가능\n",
        "    index_gu = 2\n",
        "\n",
        "    ### <서울>\n",
        "    ### 0 강남구, 1 강동구, 2 강북구, 3 강서구, 4 관악구,\n",
        "    ### 5 광진구, 6 구로구, 7 금천구, 8 노원구, 9 도봉구,\n",
        "    ### 10 동대문구, 11 동작구, 12 마포구, 13 서대문구, 14 서초구,\n",
        "    ### 15 성동구, 16 성북구, 17 송파구, 18 양천구, 19 영등포구,\n",
        "    ### 20 용산구, 21 은평구, 22 종로구, 23 중구, 24 중랑구\n",
        "\n",
        "    ### <대전>\n",
        "    ### 0 대덕구, 1 동구, 2 서구, 3 유성구, 4 중구\n",
        "    \n",
        "    ### <대구>\n",
        "    ### 0 남구, 1 달서구, 2 달성군, 3 동구, 4 북구, \n",
        "    ### 5 서구, 6 수성구, 7 중구\n",
        "\n",
        "    result_dict = {\n",
        "        'datatime' : request_soup.body.find_all('datatime')[index_gu].text, # 데이터 최근 업데이트 시간\n",
        "        'cityname' : request_soup.body.find_all('cityname')[index_gu].text, # 지역구\n",
        "        'so2value' : request_soup.body.find_all('so2value')[index_gu].text, # 아황산가스 평균농도,\n",
        "        'covalue' : request_soup.body.find_all('covalue')[index_gu].text, # 일산화탄소 평균농도 \n",
        "        'o3value' : request_soup.body.find_all('o3value')[index_gu].text, # 오존 평균농도\n",
        "        'no2value' : request_soup.body.find_all('no2value')[index_gu].text, # 이산화질소 평균농도\n",
        "        'pm10value' : request_soup.body.find_all('pm10value')[index_gu].text, # 미세먼지 PM10 평균농도\n",
        "        'pm25value' : request_soup.body.find_all('pm25value')[index_gu].text # 미세먼지 PM2.5 평균농도\n",
        "    }\n",
        "        \n",
        "      \n",
        "    \n",
        "    return result_dict\n",
        "    print(result_dict)"
      ],
      "execution_count": null,
      "outputs": []
    },
    {
      "cell_type": "code",
      "metadata": {
        "id": "_DIVnj1z6Clm",
        "colab_type": "code",
        "colab": {}
      },
      "source": [
        ""
      ],
      "execution_count": null,
      "outputs": []
    },
    {
      "cell_type": "code",
      "metadata": {
        "id": "OYM79BjF6Ffe",
        "colab_type": "code",
        "colab": {}
      },
      "source": [
        ""
      ],
      "execution_count": null,
      "outputs": []
    },
    {
      "cell_type": "code",
      "metadata": {
        "id": "hwErvkX_u4we",
        "colab_type": "code",
        "colab": {
          "base_uri": "https://localhost:8080/",
          "height": 187
        },
        "outputId": "23d55f08-76c8-47c0-d410-153aba9b7147"
      },
      "source": [
        "getData_airPollution()"
      ],
      "execution_count": null,
      "outputs": [
        {
          "output_type": "stream",
          "text": [
            "request 완료\n",
            "\n"
          ],
          "name": "stdout"
        },
        {
          "output_type": "execute_result",
          "data": {
            "text/plain": [
              "{'cityname': '서구',\n",
              " 'covalue': '0.3',\n",
              " 'datatime': '2020-08-13 22:00',\n",
              " 'no2value': '0.015',\n",
              " 'o3value': '0.026',\n",
              " 'pm10value': '33',\n",
              " 'pm25value': '14',\n",
              " 'so2value': '0.002'}"
            ]
          },
          "metadata": {
            "tags": []
          },
          "execution_count": 39
        }
      ]
    },
    {
      "cell_type": "markdown",
      "metadata": {
        "id": "IqFJFG1PuiDa",
        "colab_type": "text"
      },
      "source": [
        "## 3. 공공데이터 가공 -> 기사문\n",
        "\n",
        "![](https://postfiles.pstatic.net/MjAxOTEwMjJfMjU5/MDAxNTcxNzI0NzU5NzQ3.ncPtuGErFTQ1WNqYGtkczA0GncphiNsEJyND2Btho3sg.IfiAjfOlBD42o2fuzNE2vYRay3sFL2B1segbAA6c6Sog.PNG.rlatlawkd/%EC%8A%A4%ED%81%AC%EB%A6%B0%EC%83%B7_2019-10-22_%EC%98%A4%ED%9B%84_3.09.51.png?type=w773)"
      ]
    },
    {
      "cell_type": "code",
      "metadata": {
        "id": "iShQEoNXtAZx",
        "colab_type": "code",
        "colab": {}
      },
      "source": [
        "def process_to_article() : \n",
        "\n",
        "    dict_to_process = getData_airPollution()\n",
        "    # 위에서 이미 정의한, 데이터 수집 함수(getData_airPollution)가 포함된다.\n",
        "    # 즉, 데이터 기사문으로 가공하는 이 함수를 실행하면, 자동으로 데이터 수집을 먼저 진행하게 된다.\n",
        "\n",
        "    \n",
        "    ### 아래 코드는 눈에 보이는 메시지로, 구체적인 형태로 가공하는 작업\n",
        "    text_result =  (\n",
        "        dict_to_process['datatime'] + ' 기준' + '\\n' + \n",
        "        dict_to_process['cityname'] + '의 미세먼지 농도는' + '\\n' + \n",
        "        'PM10 : ' + dict_to_process['pm10value'] + 'ppm' + '\\n' + \n",
        "        'PM2.5 : ' + dict_to_process['pm25value'] + 'ppm'\n",
        "    )\n",
        "    \n",
        "    print(text_result)\n",
        "    return text_result\n",
        "   "
      ],
      "execution_count": null,
      "outputs": []
    },
    {
      "cell_type": "code",
      "metadata": {
        "id": "Da1E4BTRafSr",
        "colab_type": "code",
        "colab": {
          "base_uri": "https://localhost:8080/",
          "height": 139
        },
        "outputId": "9242515f-cc9d-4fb1-8fcd-1c10b85b2ae3"
      },
      "source": [
        "process_to_article()"
      ],
      "execution_count": null,
      "outputs": [
        {
          "output_type": "stream",
          "text": [
            "request 완료\n",
            "\n",
            "2020-01-31 16:00 기준\n",
            "서구의 미세먼지 농도는\n",
            "PM10 : 41ppm\n",
            "PM2.5 : 25ppm\n"
          ],
          "name": "stdout"
        },
        {
          "output_type": "execute_result",
          "data": {
            "text/plain": [
              "'2020-01-31 16:00 기준\\n서구의 미세먼지 농도는\\nPM10 : 41ppm\\nPM2.5 : 25ppm'"
            ]
          },
          "metadata": {
            "tags": []
          },
          "execution_count": 31
        }
      ]
    },
    {
      "cell_type": "markdown",
      "metadata": {
        "id": "qXflJyrQV-ZU",
        "colab_type": "text"
      },
      "source": [
        "## 4. 공공데이터 기사문 -> 텔레그램 전송\n",
        "\n",
        "![](https://postfiles.pstatic.net/MjAxOTEwMjJfMTkz/MDAxNTcxNzI2NjU1NDcx.x3vPqfGHtnY9NW86lHvuY8GIQUwCC1HL7gFTLvLL7Cgg.KEnDUuGG2OWoxthJZK_Lbd9Uik2V8GNuJglKN7RjsQ8g.PNG.rlatlawkd/%EC%8A%A4%ED%81%AC%EB%A6%B0%EC%83%B7_2019-10-22_%EC%98%A4%ED%9B%84_3.43.57.png?type=w773)"
      ]
    },
    {
      "cell_type": "code",
      "metadata": {
        "id": "f-DG-OSFVg8g",
        "colab_type": "code",
        "colab": {}
      },
      "source": [
        "def message_article():\n",
        "  \n",
        "  article = process_to_article()\n",
        "  # 위에서 이미 정의한, 데이터 수집 함수(process_to_article)가 포함된다.\n",
        "  # 즉, 기사문을 텔레그램으로 전송하는 이 함수를 실행하면, \n",
        "  # 자동으로 데이터 수집을 먼저, 그 다음으로는 수집한 데이터를 기사문으로 가공하는 작업을 진행하게 된다.\n",
        "\n",
        "  send_message(article)"
      ],
      "execution_count": null,
      "outputs": []
    },
    {
      "cell_type": "code",
      "metadata": {
        "id": "vr1D_H_AVzwL",
        "colab_type": "code",
        "colab": {
          "base_uri": "https://localhost:8080/",
          "height": 317
        },
        "outputId": "159ad2e5-3e06-4e53-f8d9-f89dab289125"
      },
      "source": [
        "# 최종 완결 형태인 함수 하나가 만들어졌다.\n",
        "# 아래 함수를 실행하면 우리 텔레그램으로 기사문이 전송된다. \n",
        "\n",
        "message_article()"
      ],
      "execution_count": null,
      "outputs": [
        {
          "output_type": "stream",
          "text": [
            "request 완료\n",
            "\n",
            "2020-01-31 16:00 기준\n",
            "서구의 미세먼지 농도는\n",
            "PM10 : 41ppm\n",
            "PM2.5 : 25ppm\n",
            "https://api.telegram.org/bot1067658259:AAFVrKUfRRNpAJZ5PA2TmszfEyfVnrjYXtg/getUpdates\n",
            "200\n",
            "SUCCESS \n",
            "\n",
            "나의 chat ID : 825106853\n",
            "https://api.telegram.org/bot1067658259:AAFVrKUfRRNpAJZ5PA2TmszfEyfVnrjYXtg/sendmessage?chat_id=825106853&text=2020-01-31 16:00 기준\n",
            "서구의 미세먼지 농도는\n",
            "PM10 : 41ppm\n",
            "PM2.5 : 25ppm\n",
            "{\"ok\":true,\"result\":{\"message_id\":9,\"from\":{\"id\":1067658259,\"is_bot\":true,\"first_name\":\"simin_misemise_bot\",\"username\":\"simin_misemise_bot\"},\"chat\":{\"id\":825106853,\"first_name\":\"\\uc2dc\\ubbfc\",\"last_name\":\"\\uae40\",\"type\":\"private\"},\"date\":1580457043,\"text\":\"2020-01-31 16:00 \\uae30\\uc900\\n\\uc11c\\uad6c\\uc758 \\ubbf8\\uc138\\uba3c\\uc9c0 \\ub18d\\ub3c4\\ub294\\nPM10 : 41ppm\\nPM2.5 : 25ppm\"}}\n"
          ],
          "name": "stdout"
        }
      ]
    },
    {
      "cell_type": "markdown",
      "metadata": {
        "id": "0AxT4WgNSZxb",
        "colab_type": "text"
      },
      "source": [
        "![](https://postfiles.pstatic.net/MjAxOTEwMjJfMTM0/MDAxNTcxNzI0NzU5NzM5.DsMvbeGbP8twe3zGyl8ax5EDqxBx5JFkrW-RHdLY3-gg.S4WF5N0n7fxcqSeBJf7Pmr3J_jBwJkmBCYskYQ-MTaAg.PNG.rlatlawkd/%EC%8A%A4%ED%81%AC%EB%A6%B0%EC%83%B7_2019-10-22_%EC%98%A4%ED%9B%84_3.12.15.png?type=w773)"
      ]
    },
    {
      "cell_type": "markdown",
      "metadata": {
        "id": "82D7ztQwJySq",
        "colab_type": "text"
      },
      "source": [
        "이제는 매 1분(=60초) 마다 같은 함수가 돌아가도록 해보자. "
      ]
    },
    {
      "cell_type": "code",
      "metadata": {
        "id": "qVsnLqukJSWL",
        "colab_type": "code",
        "colab": {
          "base_uri": "https://localhost:8080/",
          "height": 1000
        },
        "outputId": "2f501c3e-a6a4-4414-bbaf-f9019b48e033"
      },
      "source": [
        "while True : # Always\n",
        "  message_article()\n",
        "  sleep(10)"
      ],
      "execution_count": null,
      "outputs": [
        {
          "output_type": "stream",
          "text": [
            "request 완료\n",
            "\n",
            "2020-01-31 16:00 기준\n",
            "서구의 미세먼지 농도는\n",
            "PM10 : 41ppm\n",
            "PM2.5 : 25ppm\n",
            "https://api.telegram.org/bot1067658259:AAFVrKUfRRNpAJZ5PA2TmszfEyfVnrjYXtg/getUpdates\n",
            "200\n",
            "SUCCESS \n",
            "\n",
            "나의 chat ID : 825106853\n",
            "https://api.telegram.org/bot1067658259:AAFVrKUfRRNpAJZ5PA2TmszfEyfVnrjYXtg/sendmessage?chat_id=825106853&text=2020-01-31 16:00 기준\n",
            "서구의 미세먼지 농도는\n",
            "PM10 : 41ppm\n",
            "PM2.5 : 25ppm\n",
            "{\"ok\":true,\"result\":{\"message_id\":11,\"from\":{\"id\":1067658259,\"is_bot\":true,\"first_name\":\"simin_misemise_bot\",\"username\":\"simin_misemise_bot\"},\"chat\":{\"id\":825106853,\"first_name\":\"\\uc2dc\\ubbfc\",\"last_name\":\"\\uae40\",\"type\":\"private\"},\"date\":1580457139,\"text\":\"2020-01-31 16:00 \\uae30\\uc900\\n\\uc11c\\uad6c\\uc758 \\ubbf8\\uc138\\uba3c\\uc9c0 \\ub18d\\ub3c4\\ub294\\nPM10 : 41ppm\\nPM2.5 : 25ppm\"}}\n",
            "request 완료\n",
            "\n",
            "2020-01-31 16:00 기준\n",
            "서구의 미세먼지 농도는\n",
            "PM10 : 41ppm\n",
            "PM2.5 : 25ppm\n",
            "https://api.telegram.org/bot1067658259:AAFVrKUfRRNpAJZ5PA2TmszfEyfVnrjYXtg/getUpdates\n",
            "200\n",
            "SUCCESS \n",
            "\n",
            "나의 chat ID : 825106853\n",
            "https://api.telegram.org/bot1067658259:AAFVrKUfRRNpAJZ5PA2TmszfEyfVnrjYXtg/sendmessage?chat_id=825106853&text=2020-01-31 16:00 기준\n",
            "서구의 미세먼지 농도는\n",
            "PM10 : 41ppm\n",
            "PM2.5 : 25ppm\n",
            "{\"ok\":true,\"result\":{\"message_id\":12,\"from\":{\"id\":1067658259,\"is_bot\":true,\"first_name\":\"simin_misemise_bot\",\"username\":\"simin_misemise_bot\"},\"chat\":{\"id\":825106853,\"first_name\":\"\\uc2dc\\ubbfc\",\"last_name\":\"\\uae40\",\"type\":\"private\"},\"date\":1580457151,\"text\":\"2020-01-31 16:00 \\uae30\\uc900\\n\\uc11c\\uad6c\\uc758 \\ubbf8\\uc138\\uba3c\\uc9c0 \\ub18d\\ub3c4\\ub294\\nPM10 : 41ppm\\nPM2.5 : 25ppm\"}}\n",
            "request 완료\n",
            "\n",
            "2020-01-31 16:00 기준\n",
            "서구의 미세먼지 농도는\n",
            "PM10 : 41ppm\n",
            "PM2.5 : 25ppm\n",
            "https://api.telegram.org/bot1067658259:AAFVrKUfRRNpAJZ5PA2TmszfEyfVnrjYXtg/getUpdates\n",
            "200\n",
            "SUCCESS \n",
            "\n",
            "나의 chat ID : 825106853\n",
            "https://api.telegram.org/bot1067658259:AAFVrKUfRRNpAJZ5PA2TmszfEyfVnrjYXtg/sendmessage?chat_id=825106853&text=2020-01-31 16:00 기준\n",
            "서구의 미세먼지 농도는\n",
            "PM10 : 41ppm\n",
            "PM2.5 : 25ppm\n",
            "{\"ok\":true,\"result\":{\"message_id\":13,\"from\":{\"id\":1067658259,\"is_bot\":true,\"first_name\":\"simin_misemise_bot\",\"username\":\"simin_misemise_bot\"},\"chat\":{\"id\":825106853,\"first_name\":\"\\uc2dc\\ubbfc\",\"last_name\":\"\\uae40\",\"type\":\"private\"},\"date\":1580457162,\"text\":\"2020-01-31 16:00 \\uae30\\uc900\\n\\uc11c\\uad6c\\uc758 \\ubbf8\\uc138\\uba3c\\uc9c0 \\ub18d\\ub3c4\\ub294\\nPM10 : 41ppm\\nPM2.5 : 25ppm\"}}\n"
          ],
          "name": "stdout"
        },
        {
          "output_type": "error",
          "ename": "KeyboardInterrupt",
          "evalue": "ignored",
          "traceback": [
            "\u001b[0;31m---------------------------------------------------------------------------\u001b[0m",
            "\u001b[0;31mKeyboardInterrupt\u001b[0m                         Traceback (most recent call last)",
            "\u001b[0;32m<ipython-input-37-9f9da1062bda>\u001b[0m in \u001b[0;36m<module>\u001b[0;34m()\u001b[0m\n\u001b[1;32m      1\u001b[0m \u001b[0;32mwhile\u001b[0m \u001b[0;32mTrue\u001b[0m \u001b[0;34m:\u001b[0m \u001b[0;31m# Always\u001b[0m\u001b[0;34m\u001b[0m\u001b[0;34m\u001b[0m\u001b[0m\n\u001b[1;32m      2\u001b[0m   \u001b[0mmessage_article\u001b[0m\u001b[0;34m(\u001b[0m\u001b[0;34m)\u001b[0m\u001b[0;34m\u001b[0m\u001b[0;34m\u001b[0m\u001b[0m\n\u001b[0;32m----> 3\u001b[0;31m   \u001b[0msleep\u001b[0m\u001b[0;34m(\u001b[0m\u001b[0;36m10\u001b[0m\u001b[0;34m)\u001b[0m\u001b[0;34m\u001b[0m\u001b[0;34m\u001b[0m\u001b[0m\n\u001b[0m",
            "\u001b[0;31mKeyboardInterrupt\u001b[0m: "
          ]
        }
      ]
    },
    {
      "cell_type": "markdown",
      "metadata": {
        "id": "TmikKNLY0bhj",
        "colab_type": "text"
      },
      "source": [
        " .\n"
      ]
    },
    {
      "cell_type": "markdown",
      "metadata": {
        "id": "Jogg8hil0Vek",
        "colab_type": "text"
      },
      "source": [
        "### 8월 14일 강의 만족도 조사\n",
        "\n",
        " https://forms.gle/5yuQgXCApTkz2eBc9"
      ]
    }
  ]
}